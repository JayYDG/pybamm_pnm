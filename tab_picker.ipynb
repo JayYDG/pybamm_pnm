{
 "cells": [
  {
   "cell_type": "code",
   "execution_count": 1,
   "metadata": {},
   "outputs": [],
   "source": [
    "import os\n",
    "import matplotlib.pyplot as plt\n",
    "import numpy as np\n",
    "import ecm\n",
    "import configparser\n",
    "from openpnm.topotools import plot_connections as pconn\n",
    "from openpnm.topotools import plot_coordinates as pcoord\n",
    "from ipywidgets import interact, interactive, fixed, interact_manual\n",
    "import ipywidgets as widgets\n",
    "import openpnm as op\n",
    "%matplotlib inline"
   ]
  },
  {
   "cell_type": "code",
   "execution_count": 38,
   "metadata": {},
   "outputs": [
    {
     "data": {
      "text/plain": [
       "['D:\\\\pybamm_pnm_results\\\\Chen2020_v3\\\\pybamm_pnm_case1_Chen2020\\\\config.txt']"
      ]
     },
     "execution_count": 38,
     "metadata": {},
     "output_type": "execute_result"
    }
   ],
   "source": [
    "wrk = op.Workspace()\n",
    "wrk.settings['loglevel']=50\n",
    "save_root = 'D:\\\\pybamm_pnm_results\\\\Chen2020_v3\\\\pybamm_pnm_case1_Chen2020'\n",
    "save_fig = os.path.join(save_root, 'tabs.png')\n",
    "config = configparser.ConfigParser()\n",
    "config.read(os.path.join(save_root, 'config.txt'))"
   ]
  },
  {
   "cell_type": "code",
   "execution_count": 4,
   "metadata": {},
   "outputs": [
    {
     "name": "stdout",
     "output_type": "stream",
     "text": [
      "===================================================================\n",
      "RUN\n",
      "===================================================================\n",
      "! i_app_a                        ! 1.75                           !\n",
      "-------------------------------------------------------------------\n",
      "! i_app_b                        ! 3.5                            !\n",
      "-------------------------------------------------------------------\n",
      "! i_app_c                        ! 5.25                           !\n",
      "-------------------------------------------------------------------\n",
      "! parallel                       ! True                           !\n",
      "-------------------------------------------------------------------\n",
      "! hours                          ! 2.5                            !\n",
      "-------------------------------------------------------------------\n",
      "! model                          ! DFN                            !\n",
      "-------------------------------------------------------------------\n",
      "! vlim_lower                     ! 2.7                            !\n",
      "-------------------------------------------------------------------\n",
      "! vlim_upper                     ! 4.7                            !\n",
      "-------------------------------------------------------------------\n",
      "! third                          ! False                          !\n",
      "-------------------------------------------------------------------\n",
      "===================================================================\n",
      "GEOMETRY\n",
      "===================================================================\n",
      "! domain                         ! tomo                           !\n",
      "-------------------------------------------------------------------\n",
      "! dtheta                         ! 10                             !\n",
      "-------------------------------------------------------------------\n",
      "! layer_spacing                  ! 195e-6                         !\n",
      "-------------------------------------------------------------------\n",
      "! length_3d                      ! 0.065                          !\n",
      "-------------------------------------------------------------------\n",
      "! nlayers                        ! 19                             !\n",
      "-------------------------------------------------------------------\n",
      "! pos_tabs                       ! 0                              !\n",
      "-------------------------------------------------------------------\n",
      "! neg_tabs                       ! -1                             !\n",
      "-------------------------------------------------------------------\n",
      "===================================================================\n",
      "THICKNESS\n",
      "===================================================================\n",
      "! pixel_size                     ! 10.4e-6                        !\n",
      "-------------------------------------------------------------------\n",
      "! neg_electrode                  ! 8.0                            !\n",
      "-------------------------------------------------------------------\n",
      "! pos_electrode                  ! 7.0                            !\n",
      "-------------------------------------------------------------------\n",
      "! neg_cc                         ! 2.0                            !\n",
      "-------------------------------------------------------------------\n",
      "! pos_cc                         ! 2.0                            !\n",
      "-------------------------------------------------------------------\n",
      "! sep                            ! 2.0                            !\n",
      "-------------------------------------------------------------------\n",
      "===================================================================\n",
      "MATERIAL\n",
      "===================================================================\n",
      "! neg_rho                        ! 1347.33                        !\n",
      "-------------------------------------------------------------------\n",
      "! neg_cp                         ! 1437.4                         !\n",
      "-------------------------------------------------------------------\n",
      "! neg_k                          ! 1.04                           !\n",
      "-------------------------------------------------------------------\n",
      "! neg_cc_rho                     ! 2702                           !\n",
      "-------------------------------------------------------------------\n",
      "! neg_cc_cp                      ! 903                            !\n",
      "-------------------------------------------------------------------\n",
      "! neg_cc_k                       ! 238                            !\n",
      "-------------------------------------------------------------------\n",
      "! pos_rho                        ! 2428.5                         !\n",
      "-------------------------------------------------------------------\n",
      "! pos_cp                         ! 1269.21                        !\n",
      "-------------------------------------------------------------------\n",
      "! pos_k                          ! 1.58                           !\n",
      "-------------------------------------------------------------------\n",
      "! pos_cc_rho                     ! 8933                           !\n",
      "-------------------------------------------------------------------\n",
      "! pos_cc_cp                      ! 385                            !\n",
      "-------------------------------------------------------------------\n",
      "! pos_cc_k                       ! 398                            !\n",
      "-------------------------------------------------------------------\n",
      "! sep_rho                        ! 1008.98                        !\n",
      "-------------------------------------------------------------------\n",
      "! sep_cp                         ! 1978.16                        !\n",
      "-------------------------------------------------------------------\n",
      "! sep_k                          ! 0.334                          !\n",
      "-------------------------------------------------------------------\n",
      "===================================================================\n",
      "PHYSICS\n",
      "===================================================================\n",
      "! do_thermal                     ! True                           !\n",
      "-------------------------------------------------------------------\n",
      "! cp                             ! 1399.0                         !\n",
      "-------------------------------------------------------------------\n",
      "! rho                            ! 2055.0                         !\n",
      "-------------------------------------------------------------------\n",
      "! k0                             ! 1.0                            !\n",
      "-------------------------------------------------------------------\n",
      "! t0                             ! 298.15                         !\n",
      "-------------------------------------------------------------------\n",
      "! heat_transfer_coefficient      ! 5                              !\n",
      "-------------------------------------------------------------------\n",
      "! neg_cc_econd                   ! 6.0e7                          !\n",
      "-------------------------------------------------------------------\n",
      "! pos_cc_econd                   ! 3.0e7                          !\n",
      "-------------------------------------------------------------------\n",
      "! neg_elec_econd                 ! 100                            !\n",
      "-------------------------------------------------------------------\n",
      "! pos_elec_econd                 ! 100                            !\n",
      "-------------------------------------------------------------------\n",
      "===================================================================\n",
      "INIT\n",
      "===================================================================\n",
      "! neg_conc                       ! 23800                          !\n",
      "-------------------------------------------------------------------\n",
      "! pos_conc                       ! 27300                          !\n",
      "-------------------------------------------------------------------\n",
      "===================================================================\n",
      "OUTPUT\n",
      "===================================================================\n",
      "! save                           ! True                           !\n",
      "-------------------------------------------------------------------\n",
      "! plot                           ! False                          !\n",
      "-------------------------------------------------------------------\n",
      "! animate                        ! False                          !\n",
      "-------------------------------------------------------------------\n"
     ]
    }
   ],
   "source": [
    "for sec in config.sections():\n",
    "    print('='*67)\n",
    "    print(sec)\n",
    "    print('='*67)\n",
    "    for key in config[sec]:\n",
    "        print('!', key.ljust(30, ' '), '!', config.get(sec, key).ljust(30, ' '), '!')\n",
    "        print('-'*67)"
   ]
  },
  {
   "cell_type": "code",
   "execution_count": 45,
   "metadata": {},
   "outputs": [],
   "source": [
    "def plot_topology(net):\n",
    "    inner = net[\"pore.inner\"]\n",
    "    outer = net[\"pore.outer\"]\n",
    "    fig, ax = plt.subplots(figsize=(10, 10))\n",
    "    fig = pconn(net, throats=net.throats(\"throat.neg_cc\"), c=\"blue\", fig=fig)\n",
    "    fig = pconn(net, throats=net.throats(\"throat.pos_cc\"), c=\"red\", fig=fig)\n",
    "    fig = pcoord(net, pores=net[\"pore.neg_cc\"], c=\"blue\", fig=fig)\n",
    "    fig = pcoord(net, pores=net[\"pore.pos_cc\"], c=\"red\", fig=fig)\n",
    "    fig = pcoord(net, pores=net[\"pore.neg_tab\"], c=\"blue\", s=300, fig=fig)\n",
    "    fig = pcoord(net, pores=net[\"pore.pos_tab\"], c=\"red\", s=300, fig=fig)\n",
    "    fig = pcoord(net, pores=inner, c=\"pink\", fig=fig)\n",
    "    fig = pcoord(net, pores=outer, c=\"yellow\", fig=fig)\n",
    "    fig = pcoord(net, pores=net.pores('free_stream'), c=\"green\", fig=fig)\n",
    "    fig = pconn(net, throats=net.throats(\"throat.free_stream\"), c=\"green\",\n",
    "                fig=fig)\n",
    "    t_sep = net.throats(\"spm_resistor\")\n",
    "    if len(t_sep) > 0:\n",
    "        fig = pconn(\n",
    "            net, throats=net.throats(\"spm_resistor\"),\n",
    "            c=\"k\", fig=fig\n",
    "        )\n",
    "    ax.set_axis_off()\n",
    "    plt.tight_layout()\n",
    "    plt.savefig(save_fig, dpi=600)"
   ]
  },
  {
   "cell_type": "code",
   "execution_count": 46,
   "metadata": {},
   "outputs": [],
   "source": [
    "def update_tabs(project, config):\n",
    "    net = project.network\n",
    "    sec = 'GEOMETRY'\n",
    "    print(net.labels())\n",
    "    for key in ['pos_tab', 'neg_tab']:\n",
    "        print(key, 'before', net.pores(key))\n",
    "        net['pore.'+key] = False\n",
    "        tab_list = json.loads(config.get(sec, key))\n",
    "        Ps = net.pores(key.strip('_tab')+'_cc')\n",
    "        Np = float(len(Ps)-1)\n",
    "        for i, elem in enumerate(tab_list):\n",
    "            relative_position = float(elem)\n",
    "            int_id = int(np.around(relative_position*Np))\n",
    "            net['pore.'+key.strip('s')][Ps[int_id]] = True\n",
    "        print(key, 'after', net.pores(key))"
   ]
  },
  {
   "cell_type": "code",
   "execution_count": 47,
   "metadata": {},
   "outputs": [],
   "source": [
    "def update_plot(p1, p2, p3, p4, p5, n1, n2, n3, n4, n5, net):\n",
    "    pos_Ps = net.pores('pos_cc')\n",
    "    neg_Ps = net.pores('neg_cc')\n",
    "    pos_ints = [p1, p2, p3, p4, p5]\n",
    "    neg_ints = [n1, n2, n3, n4, n5]\n",
    "    pos_tabs = pos_Ps[pos_ints]\n",
    "    neg_tabs = neg_Ps[neg_ints]\n",
    "    net['pore.pos_tab'] = False\n",
    "    net['pore.neg_tab'] = False\n",
    "    net['pore.pos_tab'][pos_tabs] = True\n",
    "    net['pore.neg_tab'][neg_tabs] = True\n",
    "    plot_topology(net)\n",
    "    "
   ]
  },
  {
   "cell_type": "code",
   "execution_count": 48,
   "metadata": {},
   "outputs": [
    {
     "name": "stdout",
     "output_type": "stream",
     "text": [
      "Num pos 673 Num neg 687\n"
     ]
    }
   ],
   "source": [
    "project, arc_edges = ecm.make_tomo_net(config)\n",
    "net = project.network\n",
    "Npcc = net.num_pores('pos_cc')\n",
    "Nncc = net.num_pores('neg_cc')\n",
    "print('Num pos', Npcc, 'Num neg', Nncc)"
   ]
  },
  {
   "cell_type": "code",
   "execution_count": 53,
   "metadata": {},
   "outputs": [],
   "source": [
    "init_pos = [0 + (4*36*i) for i in range(5)]\n",
    "init_neg = [(Nncc-1) - (4*36*i) for i in range(5)]\n",
    "init_pos = [0, 445]\n",
    "init_neg = [445, 686]"
   ]
  },
  {
   "cell_type": "code",
   "execution_count": 54,
   "metadata": {},
   "outputs": [
    {
     "data": {
      "application/vnd.jupyter.widget-view+json": {
       "model_id": "40a305acb41c44208699a4814dee9220",
       "version_major": 2,
       "version_minor": 0
      },
      "text/plain": [
       "interactive(children=(IntSlider(value=0, description='p1', max=673), IntSlider(value=0, description='p2', max=…"
      ]
     },
     "metadata": {},
     "output_type": "display_data"
    },
    {
     "data": {
      "text/plain": [
       "<function __main__.update_plot(p1, p2, p3, p4, p5, n1, n2, n3, n4, n5, net)>"
      ]
     },
     "execution_count": 54,
     "metadata": {},
     "output_type": "execute_result"
    }
   ],
   "source": [
    "interact_manual(update_plot, p1=widgets.IntSlider(min=0, max=Npcc, step=1, value=init_pos[0]),\n",
    "                      p2=widgets.IntSlider(min=0, max=Npcc, step=1, value=init_pos[0]),\n",
    "                      p3=widgets.IntSlider(min=0, max=Npcc, step=1, value=init_pos[0]),\n",
    "                      p4=widgets.IntSlider(min=0, max=Npcc, step=1, value=init_pos[0]),\n",
    "                      p5=widgets.IntSlider(min=0, max=Npcc, step=1, value=init_pos[1]),\n",
    "                      n1=widgets.IntSlider(min=0, max=Nncc, step=1, value=init_neg[0]),\n",
    "                      n2=widgets.IntSlider(min=0, max=Nncc, step=1, value=init_neg[0]),\n",
    "                      n3=widgets.IntSlider(min=0, max=Nncc, step=1, value=init_neg[0]),\n",
    "                      n4=widgets.IntSlider(min=0, max=Nncc, step=1, value=init_neg[0]),\n",
    "                      n5=widgets.IntSlider(min=0, max=Nncc, step=1, value=init_neg[1\n",
    "                                                                                  \n",
    "                                                                                  ]),\n",
    "                      net=fixed(net))"
   ]
  },
  {
   "cell_type": "code",
   "execution_count": 41,
   "metadata": {},
   "outputs": [],
   "source": [
    "neg_cc_lens = net['throat.arc_length'][net['throat.neg_cc']]\n",
    "cum_len = np.cumsum(neg_cc_lens)\n",
    "P_neg_tab = np.argmin(cum_len < cum_len[-1]/2)"
   ]
  },
  {
   "cell_type": "code",
   "execution_count": 42,
   "metadata": {},
   "outputs": [],
   "source": [
    "pos_cc_lens = net['throat.arc_length'][net['throat.pos_cc']]\n",
    "cum_len = np.cumsum(neg_cc_lens)\n",
    "P_pos_tab = np.argmin(cum_len < cum_len[-1]/2)"
   ]
  },
  {
   "cell_type": "code",
   "execution_count": 43,
   "metadata": {},
   "outputs": [
    {
     "name": "stdout",
     "output_type": "stream",
     "text": [
      "445 445\n"
     ]
    }
   ],
   "source": [
    "print(P_neg_tab, P_pos_tab)"
   ]
  },
  {
   "cell_type": "code",
   "execution_count": 37,
   "metadata": {},
   "outputs": [
    {
     "data": {
      "text/plain": [
       "array([[ 687],\n",
       "       [ 831],\n",
       "       [ 975],\n",
       "       [1119],\n",
       "       [1263]], dtype=int64)"
      ]
     },
     "execution_count": 37,
     "metadata": {},
     "output_type": "execute_result"
    }
   ],
   "source": [
    "np.argwhere(net['pore.pos_tab'])"
   ]
  },
  {
   "cell_type": "code",
   "execution_count": 51,
   "metadata": {},
   "outputs": [
    {
     "data": {
      "text/plain": [
       "[686, 542, 398, 254, 110]"
      ]
     },
     "execution_count": 51,
     "metadata": {},
     "output_type": "execute_result"
    }
   ],
   "source": [
    "init_neg"
   ]
  },
  {
   "cell_type": "code",
   "execution_count": null,
   "metadata": {},
   "outputs": [],
   "source": []
  }
 ],
 "metadata": {
  "kernelspec": {
   "display_name": "Python 3",
   "language": "python",
   "name": "python3"
  },
  "language_info": {
   "codemirror_mode": {
    "name": "ipython",
    "version": 3
   },
   "file_extension": ".py",
   "mimetype": "text/x-python",
   "name": "python",
   "nbconvert_exporter": "python",
   "pygments_lexer": "ipython3",
   "version": "3.7.6"
  }
 },
 "nbformat": 4,
 "nbformat_minor": 4
}
