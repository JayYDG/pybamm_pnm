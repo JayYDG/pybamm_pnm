{
 "cells": [
  {
   "cell_type": "markdown",
   "metadata": {},
   "source": [
    "# A look at solution data and processed variables"
   ]
  },
  {
   "cell_type": "markdown",
   "metadata": {},
   "source": [
    "Once you have run a simulation the first thing you want to do is have a look at the data. Most of the examples so far have made use of PyBaMM's handy QuickPlot function but there are other ways to access the data and this notebook will explore them. First off we will generate a standard SPMe model and use QuickPlot to view the default variables."
   ]
  },
  {
   "cell_type": "code",
   "execution_count": 1,
   "metadata": {},
   "outputs": [
    {
     "data": {
      "application/vnd.jupyter.widget-view+json": {
       "model_id": "edc8f135dad242a38697eb486fe3bde1",
       "version_major": 2,
       "version_minor": 0
      },
      "text/plain": [
       "interactive(children=(FloatSlider(value=0.0, description='t', max=1.0, step=0.05), Checkbox(value=False, descr…"
      ]
     },
     "metadata": {},
     "output_type": "display_data"
    }
   ],
   "source": [
    "import pybamm\n",
    "import numpy as np\n",
    "import os\n",
    "import matplotlib.pyplot as plt\n",
    "os.chdir(pybamm.__path__[0]+'/..')\n",
    "\n",
    "# load model\n",
    "model = pybamm.lithium_ion.SPMe()\n",
    "\n",
    "# create geometry\n",
    "geometry = model.default_geometry\n",
    "\n",
    "# load parameter values and process model and geometry\n",
    "param = model.default_parameter_values\n",
    "param.process_model(model)\n",
    "param.process_geometry(geometry)\n",
    "\n",
    "# set mesh\n",
    "mesh = pybamm.Mesh(geometry, model.default_submesh_types, model.default_var_pts)\n",
    "\n",
    "# discretise model\n",
    "disc = pybamm.Discretisation(mesh, model.default_spatial_methods)\n",
    "disc.process_model(model)\n",
    "\n",
    "# solve model\n",
    "solver = model.default_solver\n",
    "t_eval = np.linspace(0, 1, 250)\n",
    "solution = solver.solve(model, t_eval)\n",
    "\n",
    "quick_plot = pybamm.QuickPlot(solution)\n",
    "\n",
    "import ipywidgets as widgets\n",
    "widgets.interact(quick_plot.plot, t=widgets.FloatSlider(min=0,max=quick_plot.max_t,step=0.05,value=0));"
   ]
  },
  {
   "cell_type": "markdown",
   "metadata": {},
   "source": [
    "Behind the scenes the QuickPlot classed has created some processed variables which can interpolate the model variables for our solution and has also stored the results for the solution steps"
   ]
  },
  {
   "cell_type": "code",
   "execution_count": 2,
   "metadata": {},
   "outputs": [
    {
     "data": {
      "text/plain": [
       "dict_keys(['Negative particle surface concentration [mol.m-3]', 'Electrolyte concentration [mol.m-3]', 'Positive particle surface concentration [mol.m-3]', 'Current [A]', 'Negative electrode potential [V]', 'Electrolyte potential [V]', 'Positive electrode potential [V]', 'Terminal voltage [V]'])"
      ]
     },
     "execution_count": 2,
     "metadata": {},
     "output_type": "execute_result"
    }
   ],
   "source": [
    "solution.data.keys()"
   ]
  },
  {
   "cell_type": "code",
   "execution_count": 4,
   "metadata": {},
   "outputs": [
    {
     "data": {
      "text/plain": [
       "(20, 250)"
      ]
     },
     "execution_count": 4,
     "metadata": {},
     "output_type": "execute_result"
    }
   ],
   "source": [
    "solution.data['Negative particle surface concentration [mol.m-3]'].shape"
   ]
  },
  {
   "cell_type": "code",
   "execution_count": 5,
   "metadata": {},
   "outputs": [
    {
     "data": {
      "text/plain": [
       "(250,)"
      ]
     },
     "execution_count": 5,
     "metadata": {},
     "output_type": "execute_result"
    }
   ],
   "source": [
    "solution.t.shape"
   ]
  },
  {
   "cell_type": "markdown",
   "metadata": {},
   "source": [
    "Notice that the dictionary keys are in the same order as the subplots in the QuickPlot figure. We can add new processed variables to the solution by simply using it like a dictionary. First lets find a few more variables to look at. As you will see there are quite a few:"
   ]
  },
  {
   "cell_type": "code",
   "execution_count": 6,
   "metadata": {},
   "outputs": [
    {
     "name": "stdout",
     "output_type": "stream",
     "text": [
      "['Ambient temperature', 'Ambient temperature [K]', 'Average negative particle concentration', 'Average negative particle concentration [mol.m-3]', 'Average positive particle concentration', 'Average positive particle concentration [mol.m-3]', 'Battery voltage [V]', 'C-rate', 'Cell temperature', 'Cell temperature [K]', 'Change in measured open circuit voltage', 'Change in measured open circuit voltage [V]', 'Current [A]', 'Current collector current density', 'Current collector current density [A.m-2]', 'Current density variable', 'Discharge capacity [A.h]', 'Electrode current density', 'Electrode tortuosity', 'Electrolyte concentration', 'Electrolyte concentration [Molar]', 'Electrolyte concentration [mol.m-3]', 'Electrolyte current density', 'Electrolyte current density [A.m-2]', 'Electrolyte flux', 'Electrolyte flux [mol.m-2.s-1]', 'Electrolyte potential', 'Electrolyte potential [V]', 'Electrolyte tortuosity', 'Exchange current density', 'Exchange current density [A.m-2]', 'Exchange current density per volume [A.m-3]', 'Gradient of electrolyte potential', 'Gradient of negative electrode potential', 'Gradient of negative electrolyte potential', 'Gradient of positive electrode potential', 'Gradient of positive electrolyte potential', 'Gradient of separator electrolyte potential', 'Inner SEI concentration [mol.m-3]', 'Inner SEI interfacial current density', 'Inner SEI interfacial current density [A.m-2]', 'Inner SEI thickness', 'Inner SEI thickness [m]', 'Interfacial current density', 'Interfacial current density [A.m-2]', 'Interfacial current density per volume [A.m-3]', 'Irreversible electrochemical heating', 'Irreversible electrochemical heating [W.m-3]', 'LAM_ne [%]', 'LAM_pe [%]', 'LLI [%]', 'Leading-order current collector current density', 'Leading-order electrode tortuosity', 'Leading-order electrolyte tortuosity', 'Leading-order negative electrode porosity', 'Leading-order negative electrode tortuosity', 'Leading-order negative electrolyte tortuosity', 'Leading-order porosity', 'Leading-order positive electrode porosity', 'Leading-order positive electrode tortuosity', 'Leading-order positive electrolyte tortuosity', 'Leading-order separator porosity', 'Leading-order separator tortuosity', 'Leading-order x-averaged negative electrode porosity', 'Leading-order x-averaged negative electrode porosity change', 'Leading-order x-averaged negative electrode tortuosity', 'Leading-order x-averaged negative electrolyte tortuosity', 'Leading-order x-averaged positive electrode porosity', 'Leading-order x-averaged positive electrode porosity change', 'Leading-order x-averaged positive electrode tortuosity', 'Leading-order x-averaged positive electrolyte tortuosity', 'Leading-order x-averaged separator porosity', 'Leading-order x-averaged separator porosity change', 'Leading-order x-averaged separator tortuosity', 'Lithium plating concentration', 'Lithium plating concentration [mol.m-3]', 'Lithium plating interfacial current density', 'Lithium plating interfacial current density [A.m-2]', 'Lithium plating thickness', 'Lithium plating thickness [m]', 'Local ECM resistance', 'Local ECM resistance [Ohm]', 'Local voltage', 'Local voltage [V]', 'Loss of active material in negative electrode [%]', 'Loss of active material in positive electrode [%]', 'Loss of capacity to SEI [A.h]', 'Loss of capacity to lithium plating [A.h]', 'Loss of lithium inventory [%]', 'Loss of lithium inventory, including electrolyte [%]', 'Loss of lithium to SEI [mol]', 'Loss of lithium to lithium plating [mol]', 'Maximum negative particle concentration', 'Maximum negative particle concentration [mol.m-3]', 'Maximum negative particle surface concentration', 'Maximum negative particle surface concentration [mol.m-3]', 'Maximum positive particle concentration', 'Maximum positive particle concentration [mol.m-3]', 'Maximum positive particle surface concentration', 'Maximum positive particle surface concentration [mol.m-3]', 'Measured battery open circuit voltage [V]', 'Measured open circuit voltage', 'Measured open circuit voltage [V]', 'Minimum negative particle concentration', 'Minimum negative particle concentration [mol.m-3]', 'Minimum negative particle surface concentration', 'Minimum negative particle surface concentration [mol.m-3]', 'Minimum positive particle concentration', 'Minimum positive particle concentration [mol.m-3]', 'Minimum positive particle surface concentration', 'Minimum positive particle surface concentration [mol.m-3]', 'Negative current collector potential', 'Negative current collector potential [V]', 'Negative current collector temperature', 'Negative current collector temperature [K]', 'Negative effective diffusivity', 'Negative effective diffusivity [m2.s-1]', 'Negative electrode SEI interfacial current density', 'Negative electrode SOC', 'Negative electrode active material volume fraction', 'Negative electrode active material volume fraction change', 'Negative electrode capacity [A.h]', 'Negative electrode current density', 'Negative electrode current density [A.m-2]', 'Negative electrode entropic change', 'Negative electrode entropic change [V.K-1]', 'Negative electrode exchange current density', 'Negative electrode exchange current density [A.m-2]', 'Negative electrode exchange current density per volume [A.m-3]', 'Negative electrode extent of lithiation', 'Negative electrode interface utilisation', 'Negative electrode interface utilisation variable', 'Negative electrode interfacial current density', 'Negative electrode interfacial current density [A.m-2]', 'Negative electrode interfacial current density per volume [A.m-3]', 'Negative electrode lithium plating interfacial current density', 'Negative electrode lithium plating reaction overpotential', 'Negative electrode lithium plating reaction overpotential [V]', 'Negative electrode ohmic losses', 'Negative electrode ohmic losses [V]', 'Negative electrode open circuit potential', 'Negative electrode open circuit potential [V]', 'Negative electrode oxygen exchange current density', 'Negative electrode oxygen exchange current density [A.m-2]', 'Negative electrode oxygen exchange current density per volume [A.m-3]', 'Negative electrode oxygen interfacial current density', 'Negative electrode oxygen interfacial current density [A.m-2]', 'Negative electrode oxygen interfacial current density per volume [A.m-3]', 'Negative electrode oxygen open circuit potential', 'Negative electrode oxygen open circuit potential [V]', 'Negative electrode oxygen reaction overpotential', 'Negative electrode oxygen reaction overpotential [V]', 'Negative electrode porosity', 'Negative electrode porosity change', 'Negative electrode porosity times concentration', 'Negative electrode potential', 'Negative electrode potential [V]', 'Negative electrode pressure', 'Negative electrode reaction overpotential', 'Negative electrode reaction overpotential [V]', 'Negative electrode surface area to volume ratio', 'Negative electrode surface area to volume ratio [m-1]', 'Negative electrode surface potential difference', 'Negative electrode surface potential difference [V]', 'Negative electrode temperature', 'Negative electrode temperature [K]', 'Negative electrode tortuosity', 'Negative electrode transverse volume-averaged acceleration', 'Negative electrode transverse volume-averaged acceleration [m.s-2]', 'Negative electrode transverse volume-averaged velocity', 'Negative electrode transverse volume-averaged velocity [m.s-2]', 'Negative electrode volume-averaged acceleration', 'Negative electrode volume-averaged acceleration [m.s-1]', 'Negative electrode volume-averaged concentration', 'Negative electrode volume-averaged concentration [mol.m-3]', 'Negative electrode volume-averaged velocity', 'Negative electrode volume-averaged velocity [m.s-1]', 'Negative electrolyte concentration', 'Negative electrolyte concentration [Molar]', 'Negative electrolyte concentration [mol.m-3]', 'Negative electrolyte current density', 'Negative electrolyte current density [A.m-2]', 'Negative electrolyte potential', 'Negative electrolyte potential [V]', 'Negative electrolyte tortuosity', 'Negative particle concentration', 'Negative particle concentration [mol.m-3]', 'Negative particle flux', 'Negative particle radius', 'Negative particle radius [m]', 'Negative particle surface concentration', 'Negative particle surface concentration [mol.m-3]', 'Ohmic heating', 'Ohmic heating [W.m-3]', 'Outer SEI concentration [mol.m-3]', 'Outer SEI interfacial current density', 'Outer SEI interfacial current density [A.m-2]', 'Outer SEI thickness', 'Outer SEI thickness [m]', 'Oxygen exchange current density', 'Oxygen exchange current density [A.m-2]', 'Oxygen exchange current density per volume [A.m-3]', 'Oxygen interfacial current density', 'Oxygen interfacial current density [A.m-2]', 'Oxygen interfacial current density per volume [A.m-3]', 'Porosity', 'Porosity change', 'Porosity times concentration', 'Positive current collector potential', 'Positive current collector potential [V]', 'Positive current collector temperature', 'Positive current collector temperature [K]', 'Positive effective diffusivity', 'Positive effective diffusivity [m2.s-1]', 'Positive electrode SEI interfacial current density', 'Positive electrode SOC', 'Positive electrode active material volume fraction', 'Positive electrode active material volume fraction change', 'Positive electrode capacity [A.h]', 'Positive electrode current density', 'Positive electrode current density [A.m-2]', 'Positive electrode entropic change', 'Positive electrode entropic change [V.K-1]', 'Positive electrode exchange current density', 'Positive electrode exchange current density [A.m-2]', 'Positive electrode exchange current density per volume [A.m-3]', 'Positive electrode extent of lithiation', 'Positive electrode interface utilisation', 'Positive electrode interface utilisation variable', 'Positive electrode interfacial current density', 'Positive electrode interfacial current density [A.m-2]', 'Positive electrode interfacial current density per volume [A.m-3]', 'Positive electrode lithium plating interfacial current density', 'Positive electrode ohmic losses', 'Positive electrode ohmic losses [V]', 'Positive electrode open circuit potential', 'Positive electrode open circuit potential [V]', 'Positive electrode oxygen exchange current density', 'Positive electrode oxygen exchange current density [A.m-2]', 'Positive electrode oxygen exchange current density per volume [A.m-3]', 'Positive electrode oxygen interfacial current density', 'Positive electrode oxygen interfacial current density [A.m-2]', 'Positive electrode oxygen interfacial current density per volume [A.m-3]', 'Positive electrode oxygen open circuit potential', 'Positive electrode oxygen open circuit potential [V]', 'Positive electrode oxygen reaction overpotential', 'Positive electrode oxygen reaction overpotential [V]', 'Positive electrode porosity', 'Positive electrode porosity change', 'Positive electrode porosity times concentration', 'Positive electrode potential', 'Positive electrode potential [V]', 'Positive electrode pressure', 'Positive electrode reaction overpotential', 'Positive electrode reaction overpotential [V]', 'Positive electrode surface area to volume ratio', 'Positive electrode surface area to volume ratio [m-1]', 'Positive electrode surface potential difference', 'Positive electrode surface potential difference [V]', 'Positive electrode temperature', 'Positive electrode temperature [K]', 'Positive electrode tortuosity', 'Positive electrode transverse volume-averaged acceleration', 'Positive electrode transverse volume-averaged acceleration [m.s-2]', 'Positive electrode transverse volume-averaged velocity', 'Positive electrode transverse volume-averaged velocity [m.s-2]', 'Positive electrode volume-averaged acceleration', 'Positive electrode volume-averaged acceleration [m.s-1]', 'Positive electrode volume-averaged concentration', 'Positive electrode volume-averaged concentration [mol.m-3]', 'Positive electrode volume-averaged velocity', 'Positive electrode volume-averaged velocity [m.s-1]', 'Positive electrolyte concentration', 'Positive electrolyte concentration [Molar]', 'Positive electrolyte concentration [mol.m-3]', 'Positive electrolyte current density', 'Positive electrolyte current density [A.m-2]', 'Positive electrolyte potential', 'Positive electrolyte potential [V]', 'Positive electrolyte tortuosity', 'Positive particle concentration', 'Positive particle concentration [mol.m-3]', 'Positive particle flux', 'Positive particle radius', 'Positive particle radius [m]', 'Positive particle surface concentration', 'Positive particle surface concentration [mol.m-3]', 'Pressure', 'R-averaged negative particle concentration', 'R-averaged negative particle concentration [mol.m-3]', 'R-averaged positive particle concentration', 'R-averaged positive particle concentration [mol.m-3]', 'Reversible heating', 'Reversible heating [W.m-3]', 'SEI concentration [mol.m-3]', 'SEI film overpotential', 'SEI film overpotential [V]', 'SEI interfacial current density', 'SEI interfacial current density [A.m-2]', 'SEI thickness', 'SEI thickness [m]', 'Separator electrolyte concentration', 'Separator electrolyte concentration [Molar]', 'Separator electrolyte concentration [mol.m-3]', 'Separator electrolyte potential', 'Separator electrolyte potential [V]', 'Separator porosity', 'Separator porosity change', 'Separator porosity times concentration', 'Separator pressure', 'Separator temperature', 'Separator temperature [K]', 'Separator tortuosity', 'Separator transverse volume-averaged acceleration', 'Separator transverse volume-averaged acceleration [m.s-2]', 'Separator transverse volume-averaged velocity', 'Separator transverse volume-averaged velocity [m.s-2]', 'Separator volume-averaged acceleration', 'Separator volume-averaged acceleration [m.s-1]', 'Separator volume-averaged velocity', 'Separator volume-averaged velocity [m.s-1]', 'Sum of electrolyte reaction source terms', 'Sum of interfacial current densities', 'Sum of negative electrode electrolyte reaction source terms', 'Sum of negative electrode interfacial current densities', 'Sum of positive electrode electrolyte reaction source terms', 'Sum of positive electrode interfacial current densities', 'Sum of x-averaged negative electrode electrolyte reaction source terms', 'Sum of x-averaged negative electrode interfacial current densities', 'Sum of x-averaged positive electrode electrolyte reaction source terms', 'Sum of x-averaged positive electrode interfacial current densities', 'Terminal power [W]', 'Terminal voltage', 'Terminal voltage [V]', 'Time', 'Time [h]', 'Time [min]', 'Time [s]', 'Total SEI thickness', 'Total SEI thickness [m]', 'Total capacity lost to side reactions [A.h]', 'Total current density', 'Total current density [A.m-2]', 'Total heating', 'Total heating [W.m-3]', 'Total lithium [mol]', 'Total lithium in electrolyte', 'Total lithium in electrolyte [mol]', 'Total lithium in negative electrode [mol]', 'Total lithium in particles [mol]', 'Total lithium in positive electrode [mol]', 'Total lithium lost [mol]', 'Total lithium lost from electrolyte [mol]', 'Total lithium lost from particles [mol]', 'Total lithium lost to side reactions [mol]', 'Transverse volume-averaged acceleration', 'Transverse volume-averaged acceleration [m.s-2]', 'Transverse volume-averaged velocity', 'Transverse volume-averaged velocity [m.s-2]', 'Volume-averaged Ohmic heating', 'Volume-averaged Ohmic heating [W.m-3]', 'Volume-averaged acceleration', 'Volume-averaged acceleration [m.s-1]', 'Volume-averaged cell temperature', 'Volume-averaged cell temperature [K]', 'Volume-averaged irreversible electrochemical heating', 'Volume-averaged irreversible electrochemical heating[W.m-3]', 'Volume-averaged reversible heating', 'Volume-averaged reversible heating [W.m-3]', 'Volume-averaged total heating', 'Volume-averaged total heating [W.m-3]', 'Volume-averaged velocity', 'Volume-averaged velocity [m.s-1]', 'X-averaged Ohmic heating', 'X-averaged Ohmic heating [W.m-3]', 'X-averaged SEI concentration [mol.m-3]', 'X-averaged SEI film overpotential', 'X-averaged SEI film overpotential [V]', 'X-averaged SEI interfacial current density', 'X-averaged SEI interfacial current density [A.m-2]', 'X-averaged SEI thickness', 'X-averaged SEI thickness [m]', 'X-averaged battery concentration overpotential [V]', 'X-averaged battery electrolyte ohmic losses [V]', 'X-averaged battery open circuit voltage [V]', 'X-averaged battery reaction overpotential [V]', 'X-averaged battery solid phase ohmic losses [V]', 'X-averaged cell temperature', 'X-averaged cell temperature [K]', 'X-averaged concentration overpotential', 'X-averaged concentration overpotential [V]', 'X-averaged electrolyte concentration', 'X-averaged electrolyte concentration [Molar]', 'X-averaged electrolyte concentration [mol.m-3]', 'X-averaged electrolyte ohmic losses', 'X-averaged electrolyte ohmic losses [V]', 'X-averaged electrolyte overpotential', 'X-averaged electrolyte overpotential [V]', 'X-averaged electrolyte potential', 'X-averaged electrolyte potential [V]', 'X-averaged inner SEI concentration [mol.m-3]', 'X-averaged inner SEI interfacial current density', 'X-averaged inner SEI interfacial current density [A.m-2]', 'X-averaged inner SEI thickness', 'X-averaged inner SEI thickness [m]', 'X-averaged irreversible electrochemical heating', 'X-averaged irreversible electrochemical heating [W.m-3]', 'X-averaged lithium plating concentration', 'X-averaged lithium plating concentration [mol.m-3]', 'X-averaged lithium plating interfacial current density', 'X-averaged lithium plating interfacial current density [A.m-2]', 'X-averaged lithium plating thickness [m]', 'X-averaged negative effective diffusivity', 'X-averaged negative effective diffusivity [m2.s-1]', 'X-averaged negative electrode SEI interfacial current density', 'X-averaged negative electrode active material volume fraction', 'X-averaged negative electrode active material volume fraction change', 'X-averaged negative electrode entropic change', 'X-averaged negative electrode entropic change [V.K-1]', 'X-averaged negative electrode exchange current density', 'X-averaged negative electrode exchange current density [A.m-2]', 'X-averaged negative electrode exchange current density per volume [A.m-3]', 'X-averaged negative electrode extent of lithiation', 'X-averaged negative electrode interface utilisation', 'X-averaged negative electrode interface utilisation variable', 'X-averaged negative electrode interfacial current density', 'X-averaged negative electrode interfacial current density [A.m-2]', 'X-averaged negative electrode interfacial current density per volume [A.m-3]', 'X-averaged negative electrode lithium plating interfacial current density', 'X-averaged negative electrode lithium plating reaction overpotential', 'X-averaged negative electrode lithium plating reaction overpotential [V]', 'X-averaged negative electrode ohmic losses', 'X-averaged negative electrode ohmic losses [V]', 'X-averaged negative electrode open circuit potential', 'X-averaged negative electrode open circuit potential [V]', 'X-averaged negative electrode oxygen exchange current density', 'X-averaged negative electrode oxygen exchange current density [A.m-2]', 'X-averaged negative electrode oxygen exchange current density per volume [A.m-3]', 'X-averaged negative electrode oxygen interfacial current density', 'X-averaged negative electrode oxygen interfacial current density [A.m-2]', 'X-averaged negative electrode oxygen interfacial current density per volume [A.m-3]', 'X-averaged negative electrode oxygen open circuit potential', 'X-averaged negative electrode oxygen open circuit potential [V]', 'X-averaged negative electrode oxygen reaction overpotential', 'X-averaged negative electrode oxygen reaction overpotential [V]', 'X-averaged negative electrode porosity', 'X-averaged negative electrode porosity change', 'X-averaged negative electrode potential', 'X-averaged negative electrode potential [V]', 'X-averaged negative electrode pressure', 'X-averaged negative electrode reaction overpotential', 'X-averaged negative electrode reaction overpotential [V]', 'X-averaged negative electrode resistance [Ohm.m2]', 'X-averaged negative electrode surface area to volume ratio', 'X-averaged negative electrode surface area to volume ratio [m-1]', 'X-averaged negative electrode surface potential difference', 'X-averaged negative electrode surface potential difference [V]', 'X-averaged negative electrode temperature', 'X-averaged negative electrode temperature [K]', 'X-averaged negative electrode tortuosity', 'X-averaged negative electrode total interfacial current density', 'X-averaged negative electrode total interfacial current density [A.m-2]', 'X-averaged negative electrode total interfacial current density per volume [A.m-3]', 'X-averaged negative electrode transverse volume-averaged acceleration', 'X-averaged negative electrode transverse volume-averaged acceleration [m.s-2]', 'X-averaged negative electrode transverse volume-averaged velocity', 'X-averaged negative electrode transverse volume-averaged velocity [m.s-2]', 'X-averaged negative electrode volume-averaged acceleration', 'X-averaged negative electrode volume-averaged acceleration [m.s-1]', 'X-averaged negative electrolyte concentration', 'X-averaged negative electrolyte concentration [mol.m-3]', 'X-averaged negative electrolyte potential', 'X-averaged negative electrolyte potential [V]', 'X-averaged negative electrolyte tortuosity', 'X-averaged negative particle concentration', 'X-averaged negative particle concentration [mol.m-3]', 'X-averaged negative particle flux', 'X-averaged negative particle surface concentration', 'X-averaged negative particle surface concentration [mol.m-3]', 'X-averaged open circuit voltage', 'X-averaged open circuit voltage [V]', 'X-averaged outer SEI concentration [mol.m-3]', 'X-averaged outer SEI interfacial current density', 'X-averaged outer SEI interfacial current density [A.m-2]', 'X-averaged outer SEI thickness', 'X-averaged outer SEI thickness [m]', 'X-averaged positive effective diffusivity', 'X-averaged positive effective diffusivity [m2.s-1]', 'X-averaged positive electrode SEI interfacial current density', 'X-averaged positive electrode active material volume fraction', 'X-averaged positive electrode active material volume fraction change', 'X-averaged positive electrode entropic change', 'X-averaged positive electrode entropic change [V.K-1]', 'X-averaged positive electrode exchange current density', 'X-averaged positive electrode exchange current density [A.m-2]', 'X-averaged positive electrode exchange current density per volume [A.m-3]', 'X-averaged positive electrode extent of lithiation', 'X-averaged positive electrode interface utilisation', 'X-averaged positive electrode interface utilisation variable', 'X-averaged positive electrode interfacial current density', 'X-averaged positive electrode interfacial current density [A.m-2]', 'X-averaged positive electrode interfacial current density per volume [A.m-3]', 'X-averaged positive electrode lithium plating interfacial current density', 'X-averaged positive electrode ohmic losses', 'X-averaged positive electrode ohmic losses [V]', 'X-averaged positive electrode open circuit potential', 'X-averaged positive electrode open circuit potential [V]', 'X-averaged positive electrode oxygen exchange current density', 'X-averaged positive electrode oxygen exchange current density [A.m-2]', 'X-averaged positive electrode oxygen exchange current density per volume [A.m-3]', 'X-averaged positive electrode oxygen interfacial current density', 'X-averaged positive electrode oxygen interfacial current density [A.m-2]', 'X-averaged positive electrode oxygen interfacial current density per volume [A.m-3]', 'X-averaged positive electrode oxygen open circuit potential', 'X-averaged positive electrode oxygen open circuit potential [V]', 'X-averaged positive electrode oxygen reaction overpotential', 'X-averaged positive electrode oxygen reaction overpotential [V]', 'X-averaged positive electrode porosity', 'X-averaged positive electrode porosity change', 'X-averaged positive electrode potential', 'X-averaged positive electrode potential [V]', 'X-averaged positive electrode pressure', 'X-averaged positive electrode reaction overpotential', 'X-averaged positive electrode reaction overpotential [V]', 'X-averaged positive electrode surface area to volume ratio', 'X-averaged positive electrode surface area to volume ratio [m-1]', 'X-averaged positive electrode surface potential difference', 'X-averaged positive electrode surface potential difference [V]', 'X-averaged positive electrode temperature', 'X-averaged positive electrode temperature [K]', 'X-averaged positive electrode tortuosity', 'X-averaged positive electrode total interfacial current density', 'X-averaged positive electrode total interfacial current density [A.m-2]', 'X-averaged positive electrode total interfacial current density per volume [A.m-3]', 'X-averaged positive electrode transverse volume-averaged acceleration', 'X-averaged positive electrode transverse volume-averaged acceleration [m.s-2]', 'X-averaged positive electrode transverse volume-averaged velocity', 'X-averaged positive electrode transverse volume-averaged velocity [m.s-2]', 'X-averaged positive electrode volume-averaged acceleration', 'X-averaged positive electrode volume-averaged acceleration [m.s-1]', 'X-averaged positive electrolyte concentration', 'X-averaged positive electrolyte concentration [mol.m-3]', 'X-averaged positive electrolyte potential', 'X-averaged positive electrolyte potential [V]', 'X-averaged positive electrolyte tortuosity', 'X-averaged positive particle concentration', 'X-averaged positive particle concentration [mol.m-3]', 'X-averaged positive particle flux', 'X-averaged positive particle surface concentration', 'X-averaged positive particle surface concentration [mol.m-3]', 'X-averaged reaction overpotential', 'X-averaged reaction overpotential [V]', 'X-averaged reversible heating', 'X-averaged reversible heating [W.m-3]', 'X-averaged separator electrolyte concentration', 'X-averaged separator electrolyte concentration [mol.m-3]', 'X-averaged separator electrolyte potential', 'X-averaged separator electrolyte potential [V]', 'X-averaged separator porosity', 'X-averaged separator porosity change', 'X-averaged separator pressure', 'X-averaged separator temperature', 'X-averaged separator temperature [K]', 'X-averaged separator tortuosity', 'X-averaged separator transverse volume-averaged acceleration', 'X-averaged separator transverse volume-averaged acceleration [m.s-2]', 'X-averaged separator transverse volume-averaged velocity', 'X-averaged separator transverse volume-averaged velocity [m.s-2]', 'X-averaged separator volume-averaged acceleration', 'X-averaged separator volume-averaged acceleration [m.s-1]', 'X-averaged solid phase ohmic losses', 'X-averaged solid phase ohmic losses [V]', 'X-averaged total SEI thickness', 'X-averaged total SEI thickness [m]', 'X-averaged total heating', 'X-averaged total heating [W.m-3]', 'X-averaged volume-averaged acceleration', 'X-averaged volume-averaged acceleration [m.s-1]', 'r_n', 'r_n [m]', 'r_p', 'r_p [m]', 'x', 'x [m]', 'x_n', 'x_n [m]', 'x_p', 'x_p [m]', 'x_s', 'x_s [m]']\n"
     ]
    }
   ],
   "source": [
    "keys = list(model.variables.keys())\n",
    "keys.sort()\n",
    "print(keys)"
   ]
  },
  {
   "cell_type": "code",
   "execution_count": 7,
   "metadata": {},
   "outputs": [
    {
     "data": {
      "text/plain": [
       "<pybamm.solvers.processed_variable.ProcessedVariable at 0x1ebff54b9d0>"
      ]
     },
     "execution_count": 7,
     "metadata": {},
     "output_type": "execute_result"
    }
   ],
   "source": [
    "solution['Time [h]']"
   ]
  },
  {
   "cell_type": "markdown",
   "metadata": {},
   "source": [
    "This created a new processed variable and stored it on the solution object"
   ]
  },
  {
   "cell_type": "code",
   "execution_count": 8,
   "metadata": {},
   "outputs": [
    {
     "data": {
      "text/plain": [
       "dict_keys(['Negative particle surface concentration [mol.m-3]', 'Electrolyte concentration [mol.m-3]', 'Positive particle surface concentration [mol.m-3]', 'Current [A]', 'Negative electrode potential [V]', 'Electrolyte potential [V]', 'Positive electrode potential [V]', 'Terminal voltage [V]', 'Time [h]'])"
      ]
     },
     "execution_count": 8,
     "metadata": {},
     "output_type": "execute_result"
    }
   ],
   "source": [
    "solution.data.keys()"
   ]
  },
  {
   "cell_type": "markdown",
   "metadata": {},
   "source": [
    "We can see the actual data in one of two ways, first by simply accessing the entries attribute of the processed variable"
   ]
  },
  {
   "cell_type": "code",
   "execution_count": 9,
   "metadata": {},
   "outputs": [
    {
     "data": {
      "text/plain": [
       "array([0.00000000e+00, 1.11557340e-06, 2.23114681e-06, 3.34672021e-06,\n",
       "       4.46229362e-06, 5.57786702e-06, 6.69344043e-06, 7.80901383e-06,\n",
       "       8.92458724e-06, 1.00401606e-05, 1.11557340e-05, 1.22713075e-05,\n",
       "       1.33868809e-05, 1.45024543e-05, 1.56180277e-05, 1.67336011e-05,\n",
       "       1.78491745e-05, 1.89647479e-05, 2.00803213e-05, 2.11958947e-05,\n",
       "       2.23114681e-05, 2.34270415e-05, 2.45426149e-05, 2.56581883e-05,\n",
       "       2.67737617e-05, 2.78893351e-05, 2.90049085e-05, 3.01204819e-05,\n",
       "       3.12360553e-05, 3.23516287e-05, 3.34672021e-05, 3.45827755e-05,\n",
       "       3.56983490e-05, 3.68139224e-05, 3.79294958e-05, 3.90450692e-05,\n",
       "       4.01606426e-05, 4.12762160e-05, 4.23917894e-05, 4.35073628e-05,\n",
       "       4.46229362e-05, 4.57385096e-05, 4.68540830e-05, 4.79696564e-05,\n",
       "       4.90852298e-05, 5.02008032e-05, 5.13163766e-05, 5.24319500e-05,\n",
       "       5.35475234e-05, 5.46630968e-05, 5.57786702e-05, 5.68942436e-05,\n",
       "       5.80098170e-05, 5.91253905e-05, 6.02409639e-05, 6.13565373e-05,\n",
       "       6.24721107e-05, 6.35876841e-05, 6.47032575e-05, 6.58188309e-05,\n",
       "       6.69344043e-05, 6.80499777e-05, 6.91655511e-05, 7.02811245e-05,\n",
       "       7.13966979e-05, 7.25122713e-05, 7.36278447e-05, 7.47434181e-05,\n",
       "       7.58589915e-05, 7.69745649e-05, 7.80901383e-05, 7.92057117e-05,\n",
       "       8.03212851e-05, 8.14368585e-05, 8.25524320e-05, 8.36680054e-05,\n",
       "       8.47835788e-05, 8.58991522e-05, 8.70147256e-05, 8.81302990e-05,\n",
       "       8.92458724e-05, 9.03614458e-05, 9.14770192e-05, 9.25925926e-05,\n",
       "       9.37081660e-05, 9.48237394e-05, 9.59393128e-05, 9.70548862e-05,\n",
       "       9.81704596e-05, 9.92860330e-05, 1.00401606e-04, 1.01517180e-04,\n",
       "       1.02632753e-04, 1.03748327e-04, 1.04863900e-04, 1.05979473e-04,\n",
       "       1.07095047e-04, 1.08210620e-04, 1.09326194e-04, 1.10441767e-04,\n",
       "       1.11557340e-04, 1.12672914e-04, 1.13788487e-04, 1.14904061e-04,\n",
       "       1.16019634e-04, 1.17135207e-04, 1.18250781e-04, 1.19366354e-04,\n",
       "       1.20481928e-04, 1.21597501e-04, 1.22713075e-04, 1.23828648e-04,\n",
       "       1.24944221e-04, 1.26059795e-04, 1.27175368e-04, 1.28290942e-04,\n",
       "       1.29406515e-04, 1.30522088e-04, 1.31637662e-04, 1.32753235e-04,\n",
       "       1.33868809e-04, 1.34984382e-04, 1.36099955e-04, 1.37215529e-04,\n",
       "       1.38331102e-04, 1.39446676e-04, 1.40562249e-04, 1.41677822e-04,\n",
       "       1.42793396e-04, 1.43908969e-04, 1.45024543e-04, 1.46140116e-04,\n",
       "       1.47255689e-04, 1.48371263e-04, 1.49486836e-04, 1.50602410e-04,\n",
       "       1.51717983e-04, 1.52833556e-04, 1.53949130e-04, 1.55064703e-04,\n",
       "       1.56180277e-04, 1.57295850e-04, 1.58411423e-04, 1.59526997e-04,\n",
       "       1.60642570e-04, 1.61758144e-04, 1.62873717e-04, 1.63989290e-04,\n",
       "       1.65104864e-04, 1.66220437e-04, 1.67336011e-04, 1.68451584e-04,\n",
       "       1.69567158e-04, 1.70682731e-04, 1.71798304e-04, 1.72913878e-04,\n",
       "       1.74029451e-04, 1.75145025e-04, 1.76260598e-04, 1.77376171e-04,\n",
       "       1.78491745e-04, 1.79607318e-04, 1.80722892e-04, 1.81838465e-04,\n",
       "       1.82954038e-04, 1.84069612e-04, 1.85185185e-04, 1.86300759e-04,\n",
       "       1.87416332e-04, 1.88531905e-04, 1.89647479e-04, 1.90763052e-04,\n",
       "       1.91878626e-04, 1.92994199e-04, 1.94109772e-04, 1.95225346e-04,\n",
       "       1.96340919e-04, 1.97456493e-04, 1.98572066e-04, 1.99687639e-04,\n",
       "       2.00803213e-04, 2.01918786e-04, 2.03034360e-04, 2.04149933e-04,\n",
       "       2.05265506e-04, 2.06381080e-04, 2.07496653e-04, 2.08612227e-04,\n",
       "       2.09727800e-04, 2.10843373e-04, 2.11958947e-04, 2.13074520e-04,\n",
       "       2.14190094e-04, 2.15305667e-04, 2.16421241e-04, 2.17536814e-04,\n",
       "       2.18652387e-04, 2.19767961e-04, 2.20883534e-04, 2.21999108e-04,\n",
       "       2.23114681e-04, 2.24230254e-04, 2.25345828e-04, 2.26461401e-04,\n",
       "       2.27576975e-04, 2.28692548e-04, 2.29808121e-04, 2.30923695e-04,\n",
       "       2.32039268e-04, 2.33154842e-04, 2.34270415e-04, 2.35385988e-04,\n",
       "       2.36501562e-04, 2.37617135e-04, 2.38732709e-04, 2.39848282e-04,\n",
       "       2.40963855e-04, 2.42079429e-04, 2.43195002e-04, 2.44310576e-04,\n",
       "       2.45426149e-04, 2.46541722e-04, 2.47657296e-04, 2.48772869e-04,\n",
       "       2.49888443e-04, 2.51004016e-04, 2.52119589e-04, 2.53235163e-04,\n",
       "       2.54350736e-04, 2.55466310e-04, 2.56581883e-04, 2.57697456e-04,\n",
       "       2.58813030e-04, 2.59928603e-04, 2.61044177e-04, 2.62159750e-04,\n",
       "       2.63275324e-04, 2.64390897e-04, 2.65506470e-04, 2.66622044e-04,\n",
       "       2.67737617e-04, 2.68853191e-04, 2.69968764e-04, 2.71084337e-04,\n",
       "       2.72199911e-04, 2.73315484e-04, 2.74431058e-04, 2.75546631e-04,\n",
       "       2.76662204e-04, 2.77777778e-04])"
      ]
     },
     "execution_count": 9,
     "metadata": {},
     "output_type": "execute_result"
    }
   ],
   "source": [
    "solution['Time [h]'].entries"
   ]
  },
  {
   "cell_type": "markdown",
   "metadata": {},
   "source": [
    "Secondly by calling the method with a specific solution time, which is non-dimensional"
   ]
  },
  {
   "cell_type": "code",
   "execution_count": 10,
   "metadata": {},
   "outputs": [
    {
     "data": {
      "text/plain": [
       "array([0.00000000e+00, 1.77712893e-07, 3.55425787e-07, 5.33138680e-07,\n",
       "       7.10851574e-07, 8.88564467e-07, 1.06627736e-06, 1.24399025e-06,\n",
       "       1.42170315e-06, 1.59941604e-06, 1.77712893e-06, 1.95484183e-06,\n",
       "       2.13255472e-06, 2.31026762e-06, 2.48798051e-06, 2.66569340e-06,\n",
       "       2.84340630e-06, 3.02111919e-06, 3.19883208e-06, 3.37654498e-06,\n",
       "       3.55425787e-06, 3.73197076e-06, 3.90968366e-06, 4.08739655e-06,\n",
       "       4.26510944e-06, 4.44282234e-06, 4.62053523e-06, 4.79824812e-06,\n",
       "       4.97596102e-06, 5.15367391e-06, 5.33138680e-06, 5.50909970e-06,\n",
       "       5.68681259e-06, 5.86452549e-06, 6.04223838e-06, 6.21995127e-06,\n",
       "       6.39766417e-06, 6.57537706e-06, 6.75308995e-06, 6.93080285e-06,\n",
       "       7.10851574e-06, 7.28622863e-06, 7.46394153e-06, 7.64165442e-06,\n",
       "       7.81936731e-06, 7.99708021e-06, 8.17479310e-06, 8.35250599e-06,\n",
       "       8.53021889e-06, 8.70793178e-06, 8.88564467e-06, 9.06335757e-06,\n",
       "       9.24107046e-06, 9.41878336e-06, 9.59649625e-06, 9.77420914e-06,\n",
       "       9.95192204e-06, 1.01296349e-05, 1.03073478e-05, 1.04850607e-05,\n",
       "       1.06627736e-05, 1.08404865e-05, 1.10181994e-05, 1.11959123e-05,\n",
       "       1.13736252e-05, 1.15513381e-05, 1.17290510e-05, 1.19067639e-05,\n",
       "       1.20844768e-05, 1.22621897e-05, 1.24399025e-05, 1.26176154e-05,\n",
       "       1.27953283e-05, 1.29730412e-05, 1.31507541e-05, 1.33284670e-05,\n",
       "       1.35061799e-05, 1.36838928e-05, 1.38616057e-05, 1.40393186e-05,\n",
       "       1.42170315e-05, 1.43947444e-05, 1.45724573e-05, 1.47501702e-05,\n",
       "       1.49278831e-05, 1.51055959e-05, 1.52833088e-05, 1.54610217e-05,\n",
       "       1.56387346e-05, 1.58164475e-05, 1.59941604e-05, 1.61718733e-05,\n",
       "       1.63495862e-05, 1.65272991e-05, 1.67050120e-05, 1.68827249e-05,\n",
       "       1.70604378e-05, 1.72381507e-05, 1.74158636e-05, 1.75935765e-05,\n",
       "       1.77712893e-05, 1.79490022e-05, 1.81267151e-05, 1.83044280e-05,\n",
       "       1.84821409e-05, 1.86598538e-05, 1.88375667e-05, 1.90152796e-05,\n",
       "       1.91929925e-05, 1.93707054e-05, 1.95484183e-05, 1.97261312e-05,\n",
       "       1.99038441e-05, 2.00815570e-05, 2.02592699e-05, 2.04369828e-05,\n",
       "       2.06146956e-05, 2.07924085e-05, 2.09701214e-05, 2.11478343e-05,\n",
       "       2.13255472e-05, 2.15032601e-05, 2.16809730e-05, 2.18586859e-05,\n",
       "       2.20363988e-05, 2.22141117e-05, 2.23918246e-05, 2.25695375e-05,\n",
       "       2.27472504e-05, 2.29249633e-05, 2.31026762e-05, 2.32803890e-05,\n",
       "       2.34581019e-05, 2.36358148e-05, 2.38135277e-05, 2.39912406e-05,\n",
       "       2.41689535e-05, 2.43466664e-05, 2.45243793e-05, 2.47020922e-05,\n",
       "       2.48798051e-05, 2.50575180e-05, 2.52352309e-05, 2.54129438e-05,\n",
       "       2.55906567e-05, 2.57683696e-05, 2.59460825e-05, 2.61237953e-05,\n",
       "       2.63015082e-05, 2.64792211e-05, 2.66569340e-05, 2.68346469e-05,\n",
       "       2.70123598e-05, 2.71900727e-05, 2.73677856e-05, 2.75454985e-05,\n",
       "       2.77232114e-05, 2.79009243e-05, 2.80786372e-05, 2.82563501e-05,\n",
       "       2.84340630e-05, 2.86117759e-05, 2.87894887e-05, 2.89672016e-05,\n",
       "       2.91449145e-05, 2.93226274e-05, 2.95003403e-05, 2.96780532e-05,\n",
       "       2.98557661e-05, 3.00334790e-05, 3.02111919e-05, 3.03889048e-05,\n",
       "       3.05666177e-05, 3.07443306e-05, 3.09220435e-05, 3.10997564e-05,\n",
       "       3.12774693e-05, 3.14551821e-05, 3.16328950e-05, 3.18106079e-05,\n",
       "       3.19883208e-05, 3.21660337e-05, 3.23437466e-05, 3.25214595e-05,\n",
       "       3.26991724e-05, 3.28768853e-05, 3.30545982e-05, 3.32323111e-05,\n",
       "       3.34100240e-05, 3.35877369e-05, 3.37654498e-05, 3.39431627e-05,\n",
       "       3.41208756e-05, 3.42985884e-05, 3.44763013e-05, 3.46540142e-05,\n",
       "       3.48317271e-05, 3.50094400e-05, 3.51871529e-05, 3.53648658e-05,\n",
       "       3.55425787e-05, 3.57202916e-05, 3.58980045e-05, 3.60757174e-05,\n",
       "       3.62534303e-05, 3.64311432e-05, 3.66088561e-05, 3.67865690e-05,\n",
       "       3.69642818e-05, 3.71419947e-05, 3.73197076e-05, 3.74974205e-05,\n",
       "       3.76751334e-05, 3.78528463e-05, 3.80305592e-05, 3.82082721e-05,\n",
       "       3.83859850e-05, 3.85636979e-05, 3.87414108e-05, 3.89191237e-05,\n",
       "       3.90968366e-05, 3.92745495e-05, 3.94522624e-05, 3.96299752e-05,\n",
       "       3.98076881e-05, 3.99854010e-05, 4.01631139e-05, 4.03408268e-05,\n",
       "       4.05185397e-05, 4.06962526e-05, 4.08739655e-05, 4.10516784e-05,\n",
       "       4.12293913e-05, 4.14071042e-05, 4.15848171e-05, 4.17625300e-05,\n",
       "       4.19402429e-05, 4.21179558e-05, 4.22956687e-05, 4.24733815e-05,\n",
       "       4.26510944e-05, 4.28288073e-05, 4.30065202e-05, 4.31842331e-05,\n",
       "       4.33619460e-05, 4.35396589e-05, 4.37173718e-05, 4.38950847e-05,\n",
       "       4.40727976e-05, 4.42505105e-05])"
      ]
     },
     "execution_count": 10,
     "metadata": {},
     "output_type": "execute_result"
    }
   ],
   "source": [
    "solution.t"
   ]
  },
  {
   "cell_type": "code",
   "execution_count": 11,
   "metadata": {},
   "outputs": [
    {
     "data": {
      "text/plain": [
       "array([0.00000000e+00, 4.93646926e-11, 9.87293853e-11, 1.48094078e-10,\n",
       "       1.97458771e-10, 2.46823463e-10, 2.96188156e-10, 3.45552848e-10,\n",
       "       3.94917541e-10, 4.44282234e-10, 4.93646926e-10, 5.43011619e-10,\n",
       "       5.92376312e-10, 6.41741004e-10, 6.91105697e-10, 7.40470390e-10,\n",
       "       7.89835082e-10, 8.39199775e-10, 8.88564467e-10, 9.37929160e-10,\n",
       "       9.87293853e-10, 1.03665855e-09, 1.08602324e-09, 1.13538793e-09,\n",
       "       1.18475262e-09, 1.23411732e-09, 1.28348201e-09, 1.33284670e-09,\n",
       "       1.38221139e-09, 1.43157609e-09, 1.48094078e-09, 1.53030547e-09,\n",
       "       1.57967016e-09, 1.62903486e-09, 1.67839955e-09, 1.72776424e-09,\n",
       "       1.77712893e-09, 1.82649363e-09, 1.87585832e-09, 1.92522301e-09,\n",
       "       1.97458771e-09, 2.02395240e-09, 2.07331709e-09, 2.12268178e-09,\n",
       "       2.17204648e-09, 2.22141117e-09, 2.27077586e-09, 2.32014055e-09,\n",
       "       2.36950525e-09, 2.41886994e-09, 2.46823463e-09, 2.51759932e-09,\n",
       "       2.56696402e-09, 2.61632871e-09, 2.66569340e-09, 2.71505810e-09,\n",
       "       2.76442279e-09, 2.81378748e-09, 2.86315217e-09, 2.91251687e-09,\n",
       "       2.96188156e-09, 3.01124625e-09, 3.06061094e-09, 3.10997564e-09,\n",
       "       3.15934033e-09, 3.20870502e-09, 3.25806971e-09, 3.30743441e-09,\n",
       "       3.35679910e-09, 3.40616379e-09, 3.45552848e-09, 3.50489318e-09,\n",
       "       3.55425787e-09, 3.60362256e-09, 3.65298726e-09, 3.70235195e-09,\n",
       "       3.75171664e-09, 3.80108133e-09, 3.85044603e-09, 3.89981072e-09,\n",
       "       3.94917541e-09, 3.99854010e-09, 4.04790480e-09, 4.09726949e-09,\n",
       "       4.14663418e-09, 4.19599887e-09, 4.24536357e-09, 4.29472826e-09,\n",
       "       4.34409295e-09, 4.39345764e-09, 4.44282234e-09, 4.49218703e-09,\n",
       "       4.54155172e-09, 4.59091642e-09, 4.64028111e-09, 4.68964580e-09,\n",
       "       4.73901049e-09, 4.78837519e-09, 4.83773988e-09, 4.88710457e-09,\n",
       "       4.93646926e-09, 4.98583396e-09, 5.03519865e-09, 5.08456334e-09,\n",
       "       5.13392803e-09, 5.18329273e-09, 5.23265742e-09, 5.28202211e-09,\n",
       "       5.33138680e-09, 5.38075150e-09, 5.43011619e-09, 5.47948088e-09,\n",
       "       5.52884558e-09, 5.57821027e-09, 5.62757496e-09, 5.67693965e-09,\n",
       "       5.72630435e-09, 5.77566904e-09, 5.82503373e-09, 5.87439842e-09,\n",
       "       5.92376312e-09, 5.97312781e-09, 6.02249250e-09, 6.07185719e-09,\n",
       "       6.12122189e-09, 6.17058658e-09, 6.21995127e-09, 6.26931597e-09,\n",
       "       6.31868066e-09, 6.36804535e-09, 6.41741004e-09, 6.46677474e-09,\n",
       "       6.51613943e-09, 6.56550412e-09, 6.61486881e-09, 6.66423351e-09,\n",
       "       6.71359820e-09, 6.76296289e-09, 6.81232758e-09, 6.86169228e-09,\n",
       "       6.91105697e-09, 6.96042166e-09, 7.00978635e-09, 7.05915105e-09,\n",
       "       7.10851574e-09, 7.15788043e-09, 7.20724513e-09, 7.25660982e-09,\n",
       "       7.30597451e-09, 7.35533920e-09, 7.40470390e-09, 7.45406859e-09,\n",
       "       7.50343328e-09, 7.55279797e-09, 7.60216267e-09, 7.65152736e-09,\n",
       "       7.70089205e-09, 7.75025674e-09, 7.79962144e-09, 7.84898613e-09,\n",
       "       7.89835082e-09, 7.94771551e-09, 7.99708021e-09, 8.04644490e-09,\n",
       "       8.09580959e-09, 8.14517429e-09, 8.19453898e-09, 8.24390367e-09,\n",
       "       8.29326836e-09, 8.34263306e-09, 8.39199775e-09, 8.44136244e-09,\n",
       "       8.49072713e-09, 8.54009183e-09, 8.58945652e-09, 8.63882121e-09,\n",
       "       8.68818590e-09, 8.73755060e-09, 8.78691529e-09, 8.83627998e-09,\n",
       "       8.88564467e-09, 8.93500937e-09, 8.98437406e-09, 9.03373875e-09,\n",
       "       9.08310345e-09, 9.13246814e-09, 9.18183283e-09, 9.23119752e-09,\n",
       "       9.28056222e-09, 9.32992691e-09, 9.37929160e-09, 9.42865629e-09,\n",
       "       9.47802099e-09, 9.52738568e-09, 9.57675037e-09, 9.62611506e-09,\n",
       "       9.67547976e-09, 9.72484445e-09, 9.77420914e-09, 9.82357384e-09,\n",
       "       9.87293853e-09, 9.92230322e-09, 9.97166791e-09, 1.00210326e-08,\n",
       "       1.00703973e-08, 1.01197620e-08, 1.01691267e-08, 1.02184914e-08,\n",
       "       1.02678561e-08, 1.03172208e-08, 1.03665855e-08, 1.04159501e-08,\n",
       "       1.04653148e-08, 1.05146795e-08, 1.05640442e-08, 1.06134089e-08,\n",
       "       1.06627736e-08, 1.07121383e-08, 1.07615030e-08, 1.08108677e-08,\n",
       "       1.08602324e-08, 1.09095971e-08, 1.09589618e-08, 1.10083265e-08,\n",
       "       1.10576912e-08, 1.11070558e-08, 1.11564205e-08, 1.12057852e-08,\n",
       "       1.12551499e-08, 1.13045146e-08, 1.13538793e-08, 1.14032440e-08,\n",
       "       1.14526087e-08, 1.15019734e-08, 1.15513381e-08, 1.16007028e-08,\n",
       "       1.16500675e-08, 1.16994322e-08, 1.17487968e-08, 1.17981615e-08,\n",
       "       1.18475262e-08, 1.18968909e-08, 1.19462556e-08, 1.19956203e-08,\n",
       "       1.20449850e-08, 1.20943497e-08, 1.21437144e-08, 1.21930791e-08,\n",
       "       1.22424438e-08, 1.22918085e-08])"
      ]
     },
     "execution_count": 11,
     "metadata": {},
     "output_type": "execute_result"
    }
   ],
   "source": [
    "solution['Time [h]'](solution.t)"
   ]
  },
  {
   "cell_type": "markdown",
   "metadata": {},
   "source": [
    "And interpolated"
   ]
  },
  {
   "cell_type": "code",
   "execution_count": 15,
   "metadata": {},
   "outputs": [
    {
     "data": {
      "text/plain": [
       "array(2.46823463e-11)"
      ]
     },
     "execution_count": 15,
     "metadata": {},
     "output_type": "execute_result"
    }
   ],
   "source": [
    "interp_t = (solution.t[0] + solution.t[1])/2\n",
    "solution['Time [h]'](interp_t)"
   ]
  },
  {
   "cell_type": "raw",
   "metadata": {},
   "source": [
    "If the variable has not already been processed it will be created behind the scenes"
   ]
  },
  {
   "cell_type": "code",
   "execution_count": 16,
   "metadata": {},
   "outputs": [
    {
     "data": {
      "text/plain": [
       "array(298.15)"
      ]
     },
     "execution_count": 16,
     "metadata": {},
     "output_type": "execute_result"
    }
   ],
   "source": [
    "var = 'X-averaged negative electrode temperature [K]'\n",
    "solution[var](interp_t)"
   ]
  },
  {
   "cell_type": "markdown",
   "metadata": {},
   "source": [
    "This solution was created in one go with the solver's solve method but it is also possible to step the solution and look at the results as we go. However, care must be taken when doing this as the processed variables also need to be updated."
   ]
  },
  {
   "cell_type": "code",
   "execution_count": 19,
   "metadata": {},
   "outputs": [
    {
     "name": "stdout",
     "output_type": "stream",
     "text": [
      "Time 0\n",
      "[3.77048098 3.7704718  3.77046265 3.77045353 3.77044442 3.77043534\n",
      " 3.77042628 3.77041724 3.77040823 3.77039924]\n"
     ]
    }
   ],
   "source": [
    "dt = 0.05\n",
    "time = 0\n",
    "end_time = solution.t[-1]\n",
    "step_solver = model.default_solver\n",
    "step_solution = None\n",
    "while time < end_time:\n",
    "    current_step_sol = step_solver.step(model=model, old_solution=step_solution, dt=dt, npts=10)\n",
    "    if not step_solution:\n",
    "        # create solution object on first step\n",
    "        step_solution = current_step_sol\n",
    "    else:\n",
    "        # append solution from the current step to step_solution\n",
    "        step_solution.append(current_step_sol)\n",
    "    print('Time', time)\n",
    "    print(step_solution[\"Terminal voltage [V]\"].entries)\n",
    "    time += dt"
   ]
  },
  {
   "cell_type": "markdown",
   "metadata": {},
   "source": [
    "Here we see our solution entries are not changing"
   ]
  },
  {
   "cell_type": "code",
   "execution_count": 20,
   "metadata": {},
   "outputs": [
    {
     "data": {
      "text/plain": [
       "[<matplotlib.lines.Line2D at 0x1eb8820dcd0>]"
      ]
     },
     "execution_count": 20,
     "metadata": {},
     "output_type": "execute_result"
    },
    {
     "data": {
      "image/png": "[encoded data removed]",
      "text/plain": [
       "<Figure size 432x288 with 1 Axes>"
      ]
     },
     "metadata": {
      "needs_background": "light"
     },
     "output_type": "display_data"
    }
   ],
   "source": [
    "voltage = solution[\"Terminal voltage [V]\"]\n",
    "step_voltage = step_solution[\"Terminal voltage [V]\"]\n",
    "plt.figure()\n",
    "plt.plot(solution.t, voltage(solution.t), \"b-\", label=\"SPMe (continuous solve)\")\n",
    "plt.plot(\n",
    "    step_solution.t, step_voltage(step_solution.t), \"ro\", label=\"SPMe (stepped solve)\"\n",
    ")"
   ]
  },
  {
   "cell_type": "code",
   "execution_count": 15,
   "metadata": {},
   "outputs": [
    {
     "name": "stdout",
     "output_type": "stream",
     "text": [
      "Time 0\n",
      "[3.77057107 3.73890422 3.72440875 3.71142961 3.69977291 3.68944471\n",
      " 3.68038153 3.67246541 3.66553752 3.65937842]\n",
      "Time 0.05\n",
      "[3.77057107 3.73890422 3.72440875 3.71142961 3.69977291 3.68944471\n",
      " 3.68038153 3.67246541 3.66553752 3.65937842 3.65360157 3.64734181\n",
      " 3.63884614 3.62696324 3.61519642 3.60725969 3.60218779 3.59830099\n",
      " 3.59486892]\n",
      "Time 0.1\n",
      "[3.77057107 3.73890422 3.72440875 3.71142961 3.69977291 3.68944471\n",
      " 3.68038153 3.67246541 3.66553752 3.65937842 3.65360157 3.64734181\n",
      " 3.63884614 3.62696324 3.61519642 3.60725969 3.60218779 3.59830099\n",
      " 3.59486892 3.59172124 3.5888885  3.5863745  3.58391715 3.58074722\n",
      " 3.57544446 3.56563286 3.54593129 3.4990516 ]\n",
      "Time 0.15000000000000002\n",
      "[3.77057107 3.73890422 3.72440875 3.71142961 3.69977291 3.68944471\n",
      " 3.68038153 3.67246541 3.66553752 3.65937842 3.65360157 3.64734181\n",
      " 3.63884614 3.62696324 3.61519642 3.60725969 3.60218779 3.59830099\n",
      " 3.59486892 3.59172124 3.5888885  3.5863745  3.58391715 3.58074722\n",
      " 3.57544446 3.56563286 3.54593129 3.4990516  3.36513834]\n"
     ]
    }
   ],
   "source": [
    "dt = 0.05\n",
    "time = 0\n",
    "end_time = solution.t[-1]\n",
    "step_solver = model.default_solver\n",
    "step_solution = None\n",
    "while time < end_time:\n",
    "    current_step_sol = step_solver.step(model, dt=dt, npts=10)\n",
    "    if not step_solution:\n",
    "        # create solution object on first step\n",
    "        step_solution = current_step_sol\n",
    "    else:\n",
    "        # append solution from the current step to step_solution\n",
    "        step_solution.append(current_step_sol)\n",
    "    step_solution.update(\"Terminal voltage [V]\")\n",
    "    print('Time', time)\n",
    "    print(step_solution[\"Terminal voltage [V]\"].entries)\n",
    "    time += dt"
   ]
  },
  {
   "cell_type": "code",
   "execution_count": 16,
   "metadata": {},
   "outputs": [
    {
     "data": {
      "text/plain": [
       "[<matplotlib.lines.Line2D at 0x7fe9cd2fbd10>]"
      ]
     },
     "execution_count": 16,
     "metadata": {},
     "output_type": "execute_result"
    },
    {
     "data": {
      "image/png": "[encoded data removed]",
      "text/plain": [
       "<Figure size 432x288 with 1 Axes>"
      ]
     },
     "metadata": {
      "needs_background": "light"
     },
     "output_type": "display_data"
    }
   ],
   "source": [
    "voltage = solution[\"Terminal voltage [V]\"]\n",
    "step_voltage = step_solution[\"Terminal voltage [V]\"]\n",
    "plt.figure()\n",
    "plt.plot(solution.t, voltage(solution.t), \"b-\", label=\"SPMe (continuous solve)\")\n",
    "plt.plot(\n",
    "    step_solution.t, step_voltage(step_solution.t), \"ro\", label=\"SPMe (stepped solve)\"\n",
    ")"
   ]
  }
 ],
 "metadata": {
  "kernelspec": {
   "display_name": "Python 3 (ipykernel)",
   "language": "python",
   "name": "python3"
  },
  "language_info": {
   "codemirror_mode": {
    "name": "ipython",
    "version": 3
   },
   "file_extension": ".py",
   "mimetype": "text/x-python",
   "name": "python",
   "nbconvert_exporter": "python",
   "pygments_lexer": "ipython3",
   "version": "3.8.3"
  }
 },
 "nbformat": 4,
 "nbformat_minor": 2
}
